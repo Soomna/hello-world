{
 "cells": [
  {
   "cell_type": "markdown",
   "id": "b6f0db52",
   "metadata": {},
   "source": [
    "### LGBM TEST : binary, multi-class"
   ]
  },
  {
   "cell_type": "code",
   "execution_count": 1,
   "id": "296eab70",
   "metadata": {},
   "outputs": [],
   "source": [
    "import pandas as pd\n",
    "import numpy as np\n",
    "import lightgbm as lgbm"
   ]
  },
  {
   "cell_type": "code",
   "execution_count": 2,
   "id": "92b55950",
   "metadata": {},
   "outputs": [
    {
     "name": "stdout",
     "output_type": "stream",
     "text": [
      "TEST입니다\n"
     ]
    }
   ],
   "source": [
    "print(\"TEST입니다\")"
   ]
  },
  {
   "cell_type": "code",
   "execution_count": null,
   "id": "9f2eb1d5",
   "metadata": {},
   "outputs": [],
   "source": []
  },
  {
   "cell_type": "code",
   "execution_count": null,
   "id": "7c7b2f8d",
   "metadata": {},
   "outputs": [],
   "source": []
  }
 ],
 "metadata": {
  "kernelspec": {
   "display_name": "Python 3",
   "language": "python",
   "name": "python3"
  },
  "language_info": {
   "codemirror_mode": {
    "name": "ipython",
    "version": 3
   },
   "file_extension": ".py",
   "mimetype": "text/x-python",
   "name": "python",
   "nbconvert_exporter": "python",
   "pygments_lexer": "ipython3",
   "version": "3.8.8"
  }
 },
 "nbformat": 4,
 "nbformat_minor": 5
}
